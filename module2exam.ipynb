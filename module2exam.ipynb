{
  "nbformat": 4,
  "nbformat_minor": 0,
  "metadata": {
    "colab": {
      "name": "module2exam",
      "provenance": [],
      "collapsed_sections": []
    },
    "kernelspec": {
      "name": "python3",
      "display_name": "Python 3"
    },
    "language_info": {
      "name": "python"
    }
  },
  "cells": [
    {
      "cell_type": "code",
      "execution_count": null,
      "metadata": {
        "id": "DoGOtLRAmMS3"
      },
      "outputs": [],
      "source": [
        "## exam python\n"
      ]
    },
    {
      "cell_type": "code",
      "source": [
        "\n",
        "##1) Convert given hrs & mins in second\n"
      ],
      "metadata": {
        "id": "lut2VT7Fn2po"
      },
      "execution_count": null,
      "outputs": []
    },
    {
      "cell_type": "code",
      "source": [
        "import datetime\n",
        "def convert(n):\n",
        "  return str(datetime.timedelta(seconds = n))\n",
        "  "
      ],
      "metadata": {
        "id": "eRJOpHdYmPpI"
      },
      "execution_count": null,
      "outputs": []
    },
    {
      "cell_type": "code",
      "source": [
        "n=12345\n",
        "print(convert(n))"
      ],
      "metadata": {
        "colab": {
          "base_uri": "https://localhost:8080/"
        },
        "id": "iYNhdmqVnYeq",
        "outputId": "68091407-2425-4037-da90-0d0930192234"
      },
      "execution_count": null,
      "outputs": [
        {
          "output_type": "stream",
          "name": "stdout",
          "text": [
            "3:25:45\n"
          ]
        }
      ]
    },
    {
      "cell_type": "code",
      "source": [
        "#Q.3) Print\n"
      ],
      "metadata": {
        "id": "Yeimmmhgne_I"
      },
      "execution_count": null,
      "outputs": []
    },
    {
      "cell_type": "code",
      "source": [
        "for i in range(1,6):\n",
        "  for j in range(1,i+1):\n",
        "    print(j%2,end=' ')\n",
        "  print()  "
      ],
      "metadata": {
        "colab": {
          "base_uri": "https://localhost:8080/"
        },
        "id": "qxIPeercoDkf",
        "outputId": "56148b9b-f362-4a33-d32b-1619c52a90e7"
      },
      "execution_count": null,
      "outputs": [
        {
          "output_type": "stream",
          "name": "stdout",
          "text": [
            "1 \n",
            "1 0 \n",
            "1 0 1 \n",
            "1 0 1 0 \n",
            "1 0 1 0 1 \n"
          ]
        }
      ]
    },
    {
      "cell_type": "code",
      "source": [
        "##4)Write a code to accept a number & print\n",
        "#in words.\n",
        "\n",
        "n=int(input(\"Enter the digit from 1 to 3 :\"))\n",
        "print(\"Entered Digit is :\",end='')\n",
        "if n==1:\n",
        "  print('one')"
      ],
      "metadata": {
        "colab": {
          "base_uri": "https://localhost:8080/"
        },
        "id": "LRSrQcWKpflP",
        "outputId": "c561d446-e65b-409b-e5c7-f27cfad6f8e0"
      },
      "execution_count": null,
      "outputs": [
        {
          "output_type": "stream",
          "name": "stdout",
          "text": [
            "Enter the digit from 1 to 3 :1\n",
            "Entered Digit is :one\n"
          ]
        }
      ]
    },
    {
      "cell_type": "code",
      "source": [
        "class Person:\n",
        "  def __init__(self,name):\n",
        "    self.name=name\n",
        "\n",
        "    def say_hi(self):\n",
        "      print('Hello, my name os',self.name)\n",
        "\n"
      ],
      "metadata": {
        "id": "Q-TGqQDkq08s"
      },
      "execution_count": null,
      "outputs": []
    },
    {
      "cell_type": "code",
      "source": [
        "p = Person ('vaishnav')\n",
        "p.say_hi()"
      ],
      "metadata": {
        "id": "h3G5J9h2tdn4"
      },
      "execution_count": null,
      "outputs": []
    },
    {
      "cell_type": "code",
      "source": [
        ""
      ],
      "metadata": {
        "id": "SDWd0SO6uXop"
      },
      "execution_count": null,
      "outputs": []
    },
    {
      "cell_type": "code",
      "source": [
        "##7)Convert Paise in Rupees &\n",
        "#Paises\n",
        "#Ex: 350 is 3 Rupees 50 Paise\n",
        "\n",
        "paise = 100\n",
        "rs = int(input('Enter amount in rupees:'))\n",
        "result= rs*paise\n",
        "print(f\"{result} paise\")"
      ],
      "metadata": {
        "colab": {
          "base_uri": "https://localhost:8080/"
        },
        "id": "DzOARZ-QwzR5",
        "outputId": "2abe7588-8a64-4a89-ac5c-cba2976c2515"
      },
      "execution_count": null,
      "outputs": [
        {
          "output_type": "stream",
          "name": "stdout",
          "text": [
            "Enter amount in rupees:350\n",
            "35000 paise\n"
          ]
        }
      ]
    },
    {
      "cell_type": "code",
      "source": [
        "#2)Write code to find the average of ‘n’\n",
        "#numbers entered by the user to funct\n",
        "\n",
        "n= int(input(\"Enter number\"))\n",
        "sum = 0\n",
        "for num in range(1,n+1,1):\n",
        "  sum= sum+num\n",
        "  print(\"sum of first\",n,\"numbers is:\", sum)\n",
        "  average = sum/n\n",
        "  print(\"average of\",n,\"numbers is:\",average)"
      ],
      "metadata": {
        "colab": {
          "base_uri": "https://localhost:8080/"
        },
        "id": "WkZPXuyO1lEl",
        "outputId": "0dcdc350-b8ea-4173-dbad-1ef912994523"
      },
      "execution_count": null,
      "outputs": [
        {
          "output_type": "stream",
          "name": "stdout",
          "text": [
            "Enter number10\n",
            "sum of first 10 numbers is: 1\n",
            "average of 10 numbers is: 0.1\n",
            "sum of first 10 numbers is: 3\n",
            "average of 10 numbers is: 0.3\n",
            "sum of first 10 numbers is: 6\n",
            "average of 10 numbers is: 0.6\n",
            "sum of first 10 numbers is: 10\n",
            "average of 10 numbers is: 1.0\n",
            "sum of first 10 numbers is: 15\n",
            "average of 10 numbers is: 1.5\n",
            "sum of first 10 numbers is: 21\n",
            "average of 10 numbers is: 2.1\n",
            "sum of first 10 numbers is: 28\n",
            "average of 10 numbers is: 2.8\n",
            "sum of first 10 numbers is: 36\n",
            "average of 10 numbers is: 3.6\n",
            "sum of first 10 numbers is: 45\n",
            "average of 10 numbers is: 4.5\n",
            "sum of first 10 numbers is: 55\n",
            "average of 10 numbers is: 5.5\n"
          ]
        }
      ]
    },
    {
      "cell_type": "code",
      "source": [
        "def add(a,b):\n",
        "  sum=a+b\n",
        "  print(a,\"+\",b,\"=\",sum)"
      ],
      "metadata": {
        "id": "QqAwOe_T4If2"
      },
      "execution_count": null,
      "outputs": []
    },
    {
      "cell_type": "code",
      "source": [
        "#.10) Create menu driven code for\n",
        "#1) Accept 2 numbers2) Add3) Sub4) Mul Di\n",
        "\n",
        "add = 5+2\n",
        "print(\"addition:%d\" %add)\n",
        "sub= 10-5\n",
        "print(\"subtraction:%d\" %sub)\n",
        "mul=10*2\n",
        "print(\"multiplication:%d\" %mul)"
      ],
      "metadata": {
        "colab": {
          "base_uri": "https://localhost:8080/"
        },
        "id": "WHBzXvMi4oGl",
        "outputId": "cc5ec733-cb95-459d-8369-6d23a210b4ea"
      },
      "execution_count": null,
      "outputs": [
        {
          "output_type": "stream",
          "name": "stdout",
          "text": [
            "addition:7\n",
            "subtraction:5\n",
            "multiplication:20\n"
          ]
        }
      ]
    }
  ]
}